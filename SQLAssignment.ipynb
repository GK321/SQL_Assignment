{
  "nbformat": 4,
  "nbformat_minor": 0,
  "metadata": {
    "colab": {
      "provenance": []
    },
    "kernelspec": {
      "name": "python3",
      "display_name": "Python 3"
    },
    "language_info": {
      "name": "python"
    }
  },
  "cells": [
    {
      "cell_type": "code",
      "execution_count": null,
      "metadata": {
        "id": "vkEWy7sjGegT"
      },
      "outputs": [],
      "source": [
        "import sqlite3\n",
        "conn = sqlite3.connect('test.db')"
      ]
    },
    {
      "cell_type": "code",
      "source": [
        "conn.execute('''\n",
        "CREATE TABLE IF NOT EXISTS COUNTRIES(  \n",
        "  COUNTRY_id VARCHAR(2),  \n",
        "  COUNTRY_name VARCHAR(40)  \n",
        "  CHECK(COUNTRY_name IN('Italy','China','India')),   \n",
        "  REGION_id DECIMAL(10,0));\n",
        "''')\n",
        "conn.commit()\n",
        "print(\"Country table created\")"
      ],
      "metadata": {
        "colab": {
          "base_uri": "https://localhost:8080/",
          "height": 235
        },
        "id": "A74KdHUtHOeD",
        "outputId": "68810502-9c2d-4172-eb9e-9467d55a8b9e"
      },
      "execution_count": null,
      "outputs": [
        {
          "output_type": "error",
          "ename": "NameError",
          "evalue": "ignored",
          "traceback": [
            "\u001b[0;31m---------------------------------------------------------------------------\u001b[0m",
            "\u001b[0;31mNameError\u001b[0m                                 Traceback (most recent call last)",
            "\u001b[0;32m<ipython-input-1-2429b8bd81ce>\u001b[0m in \u001b[0;36m<module>\u001b[0;34m\u001b[0m\n\u001b[0;32m----> 1\u001b[0;31m conn.execute('''\n\u001b[0m\u001b[1;32m      2\u001b[0m CREATE TABLE IF NOT EXISTS COUNTRIES(  \n\u001b[1;32m      3\u001b[0m   \u001b[0mCOUNTRY_id\u001b[0m \u001b[0mVARCHAR\u001b[0m\u001b[0;34m(\u001b[0m\u001b[0;36m2\u001b[0m\u001b[0;34m)\u001b[0m\u001b[0;34m,\u001b[0m\u001b[0;34m\u001b[0m\u001b[0;34m\u001b[0m\u001b[0m\n\u001b[1;32m      4\u001b[0m   \u001b[0mCOUNTRY_name\u001b[0m \u001b[0mVARCHAR\u001b[0m\u001b[0;34m(\u001b[0m\u001b[0;36m40\u001b[0m\u001b[0;34m)\u001b[0m\u001b[0;34m\u001b[0m\u001b[0;34m\u001b[0m\u001b[0m\n\u001b[1;32m      5\u001b[0m   \u001b[0mCHECK\u001b[0m\u001b[0;34m(\u001b[0m\u001b[0mCOUNTRY_name\u001b[0m \u001b[0mIN\u001b[0m\u001b[0;34m(\u001b[0m\u001b[0;34m'Italy'\u001b[0m\u001b[0;34m,\u001b[0m\u001b[0;34m'China'\u001b[0m\u001b[0;34m,\u001b[0m\u001b[0;34m'India'\u001b[0m\u001b[0;34m)\u001b[0m\u001b[0;34m)\u001b[0m\u001b[0;34m,\u001b[0m\u001b[0;34m\u001b[0m\u001b[0;34m\u001b[0m\u001b[0m\n",
            "\u001b[0;31mNameError\u001b[0m: name 'conn' is not defined"
          ]
        }
      ]
    },
    {
      "cell_type": "code",
      "source": [
        "conn.execute('''\n",
        "CREATE TABLE IF NOT EXISTS COUNTRIES(  \n",
        "  COUNTRY_id VARCHAR(2) NOT NULL UNIQUE PRIMARY KEY,\n",
        "  COUNTRY_name VARCHAR(40) NOT NULL);\n",
        "''')\n",
        "conn.commit()\n",
        "print(\"Countries table created\")"
      ],
      "metadata": {
        "colab": {
          "base_uri": "https://localhost:8080/"
        },
        "id": "zHdVeGD4s7C4",
        "outputId": "0fc252c5-7d80-4996-f01b-6883c81e35e3"
      },
      "execution_count": null,
      "outputs": [
        {
          "output_type": "stream",
          "name": "stdout",
          "text": [
            "Countries table created\n"
          ]
        }
      ]
    },
    {
      "cell_type": "code",
      "source": [
        "conn.execute('''\n",
        "CREATE TABLE IF NOT EXISTS COUNTRY_new\n",
        "AS SELECT * FROM COUNTRIES;\n",
        "''')\n",
        "conn.commit()\n",
        "print(\"Country_New table created\")"
      ],
      "metadata": {
        "colab": {
          "base_uri": "https://localhost:8080/"
        },
        "id": "rF_dLcXhtDQ0",
        "outputId": "4d20c880-7609-4f86-a68a-2e04ede1b9e5"
      },
      "execution_count": null,
      "outputs": [
        {
          "output_type": "stream",
          "name": "stdout",
          "text": [
            "Country_New table created\n"
          ]
        }
      ]
    },
    {
      "cell_type": "code",
      "source": [
        "conn.execute('''\n",
        "SELECT * FROM COUNTRY_new;\n",
        "''')\n",
        "conn.commit()\n",
        "print(\"Viewing\")"
      ],
      "metadata": {
        "colab": {
          "base_uri": "https://localhost:8080/"
        },
        "id": "qcSeJxsAtfh6",
        "outputId": "66bf2c13-c932-4eb9-9740-99bf639b75b4"
      },
      "execution_count": null,
      "outputs": [
        {
          "output_type": "stream",
          "name": "stdout",
          "text": [
            "Viewing\n"
          ]
        }
      ]
    },
    {
      "cell_type": "code",
      "source": [
        "conn.execute('''\n",
        "INSERT INTO COUNTRY_new (COUNTRY_id, COUNTRY_name)\n",
        "VALUES ('02', 'India');\n",
        "''')\n",
        "\n",
        "conn.execute('''\n",
        "INSERT INTO COUNTRY_new (COUNTRY_id, COUNTRY_name)\n",
        "VALUES ('01', 'China');\n",
        "''')\n",
        "conn.execute('''\n",
        "INSERT INTO COUNTRY_new (COUNTRY_id, COUNTRY_name)\n",
        "VALUES ('03', 'Italy');\n",
        "''')\n",
        "conn.commit()"
      ],
      "metadata": {
        "id": "bmqEtYl2up9s",
        "outputId": "501d7cd7-6410-4481-c7ee-cea4a29c3fb2",
        "colab": {
          "base_uri": "https://localhost:8080/",
          "height": 235
        }
      },
      "execution_count": null,
      "outputs": [
        {
          "output_type": "error",
          "ename": "NameError",
          "evalue": "ignored",
          "traceback": [
            "\u001b[0;31m---------------------------------------------------------------------------\u001b[0m",
            "\u001b[0;31mNameError\u001b[0m                                 Traceback (most recent call last)",
            "\u001b[0;32m<ipython-input-2-eda90609aa2a>\u001b[0m in \u001b[0;36m<module>\u001b[0;34m\u001b[0m\n\u001b[0;32m----> 1\u001b[0;31m conn.execute('''\n\u001b[0m\u001b[1;32m      2\u001b[0m \u001b[0mINSERT\u001b[0m \u001b[0mINTO\u001b[0m \u001b[0mCOUNTRY_new\u001b[0m \u001b[0;34m(\u001b[0m\u001b[0mCOUNTRY_id\u001b[0m\u001b[0;34m,\u001b[0m \u001b[0mCOUNTRY_name\u001b[0m\u001b[0;34m)\u001b[0m\u001b[0;34m\u001b[0m\u001b[0;34m\u001b[0m\u001b[0m\n\u001b[1;32m      3\u001b[0m \u001b[0mVALUES\u001b[0m \u001b[0;34m(\u001b[0m\u001b[0;34m'02'\u001b[0m\u001b[0;34m,\u001b[0m \u001b[0;34m'India'\u001b[0m\u001b[0;34m)\u001b[0m\u001b[0;34m;\u001b[0m\u001b[0;34m\u001b[0m\u001b[0;34m\u001b[0m\u001b[0m\n\u001b[1;32m      4\u001b[0m ''')\n\u001b[1;32m      5\u001b[0m conn.execute('''\n",
            "\u001b[0;31mNameError\u001b[0m: name 'conn' is not defined"
          ]
        }
      ]
    },
    {
      "cell_type": "code",
      "source": [
        "conn = sqlite3.connect('test.db')\n",
        "cursors = conn.execute('''\n",
        "SELECT * FROM COUNTRY_new;\n",
        "''')\n",
        "for row in cursors:\n",
        "  print(row)"
      ],
      "metadata": {
        "colab": {
          "base_uri": "https://localhost:8080/",
          "height": 235
        },
        "id": "ZTUY-wT-uPXw",
        "outputId": "29808db1-4b9d-41b6-9c06-d98371149fb9"
      },
      "execution_count": null,
      "outputs": [
        {
          "output_type": "error",
          "ename": "NameError",
          "evalue": "ignored",
          "traceback": [
            "\u001b[0;31m---------------------------------------------------------------------------\u001b[0m",
            "\u001b[0;31mNameError\u001b[0m                                 Traceback (most recent call last)",
            "\u001b[0;32m<ipython-input-1-a7c66f393e08>\u001b[0m in \u001b[0;36m<module>\u001b[0;34m\u001b[0m\n\u001b[0;32m----> 1\u001b[0;31m \u001b[0mconn\u001b[0m \u001b[0;34m=\u001b[0m \u001b[0msqlite3\u001b[0m\u001b[0;34m.\u001b[0m\u001b[0mconnect\u001b[0m\u001b[0;34m(\u001b[0m\u001b[0;34m'test.db'\u001b[0m\u001b[0;34m)\u001b[0m\u001b[0;34m\u001b[0m\u001b[0;34m\u001b[0m\u001b[0m\n\u001b[0m\u001b[1;32m      2\u001b[0m cursors = conn.execute('''\n\u001b[1;32m      3\u001b[0m \u001b[0mSELECT\u001b[0m \u001b[0;34m*\u001b[0m \u001b[0mFROM\u001b[0m \u001b[0mCOUNTRY_new\u001b[0m\u001b[0;34m;\u001b[0m\u001b[0;34m\u001b[0m\u001b[0;34m\u001b[0m\u001b[0m\n\u001b[1;32m      4\u001b[0m ''')\n\u001b[1;32m      5\u001b[0m \u001b[0;32mfor\u001b[0m \u001b[0mrow\u001b[0m \u001b[0;32min\u001b[0m \u001b[0mcursors\u001b[0m\u001b[0;34m:\u001b[0m\u001b[0;34m\u001b[0m\u001b[0;34m\u001b[0m\u001b[0m\n",
            "\u001b[0;31mNameError\u001b[0m: name 'sqlite3' is not defined"
          ]
        }
      ]
    }
  ]
}